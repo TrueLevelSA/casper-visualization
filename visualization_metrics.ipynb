{
 "cells": [
  {
   "cell_type": "code",
   "execution_count": null,
   "metadata": {},
   "outputs": [],
   "source": [
    "%matplotlib notebook \n",
    "import numpy as np\n",
    "import matplotlib.pyplot as plt\n",
    "from pandas.plotting import scatter_matrix\n",
    "import pandas as pd\n",
    "import visualization_metrics as v\n",
    "import seaborn as sns\n",
    "RP = v.RegrParams\n",
    "\n",
    "params = {\n",
    "    'plot': True,\n",
    "    'undersample': not True,\n",
    "    'oversample': False \n",
    "}\n",
    "suffix_file = \"_averages\"\n",
    "dict_vals = {}\n",
    "dict_vals_new = {}"
   ]
  },
  {
   "cell_type": "code",
   "execution_count": null,
   "metadata": {
    "scrolled": false
   },
   "outputs": [],
   "source": [
    "\n",
    "#val = v.main(\"gen_averages.csv\", plot=plot)\n",
    "#dict_vals['rnd'] = val"
   ]
  },
  {
   "cell_type": "code",
   "execution_count": null,
   "metadata": {
    "scrolled": false
   },
   "outputs": [],
   "source": [
    "rp = RP()\n",
    "rp.is_overhead_node_linear = False\n",
    "rp.is_latency_overhead_vertical = True\n",
    "rp.is_latency_overhead_linear = False\n",
    "params['regr_params'] = rp\n",
    "val, val_new = v.main(\"generated/aggregated/rr_20_nodes_4_depth_all_receivers_gen\" + suffix_file + \".csv\", **params)\n",
    "dict_vals['rr'] = val\n",
    "dict_vals_new['rr'] = val_new"
   ]
  },
  {
   "cell_type": "code",
   "execution_count": null,
   "metadata": {
    "scrolled": false
   },
   "outputs": [],
   "source": [
    "rp = RP()\n",
    "rp.is_overhead_node_linear = False\n",
    "rp.is_latency_overhead_vertical = True\n",
    "rp.is_latency_overhead_linear = False\n",
    "params['regr_params'] = rp\n",
    "val, val_new = v.main(\"generated/aggregated/double_rr_20_nodes_4_depth_all_receivers_gen\" + suffix_file + \".csv\", **params)\n",
    "dict_vals['double_rr'] = val\n",
    "dict_vals_new['double_rr'] = val_new"
   ]
  },
  {
   "cell_type": "code",
   "execution_count": null,
   "metadata": {
    "scrolled": false
   },
   "outputs": [],
   "source": [
    "rp = RP()\n",
    "rp.is_overhead_node_linear = False\n",
    "rp.is_latency_overhead_vertical = True\n",
    "rp.is_latency_overhead_linear = False\n",
    "params['regr_params'] = rp\n",
    "val, val_new = v.main(\"generated/aggregated/triple_rr_20_nodes_4_depth_all_receivers_gen\" + suffix_file + \".csv\", **params)\n",
    "dict_vals['triple_rr'] = val\n",
    "dict_vals_new['triple_rr'] = val_new"
   ]
  },
  {
   "cell_type": "code",
   "execution_count": null,
   "metadata": {
    "scrolled": false
   },
   "outputs": [],
   "source": [
    "rp = RP()\n",
    "rp.is_latency_node_linear = False\n",
    "rp.is_latency_overhead_linear = False\n",
    "params['regr_params'] = rp\n",
    "val, val_new = v.main(\"generated/aggregated/overhead_10-20_nodes_4_depth_all_receivers_gen\" + suffix_file + \".csv\", **params)\n",
    "dict_vals['overhead'] = val\n",
    "dict_vals_new['overhead'] = val_new"
   ]
  },
  {
   "cell_type": "code",
   "execution_count": null,
   "metadata": {
    "scrolled": false
   },
   "outputs": [],
   "source": [
    "rp = RP()\n",
    "params['regr_params'] = rp\n",
    "val, val_new = v.main(\"generated/aggregated/arbitrary_20_nodes_4_depth_all_receivers_gen\"+suffix_file+\".csv\", **params)\n",
    "dict_vals['arbitrary'] = val\n",
    "dict_vals_new['arbitrary'] = val_new"
   ]
  },
  {
   "cell_type": "code",
   "execution_count": null,
   "metadata": {
    "scrolled": false
   },
   "outputs": [],
   "source": [
    "rp = RP()\n",
    "params['regr_params'] = rp\n",
    "val, val_new = v.main(\"generated/aggregated/rr_20_nodes_4_depth_some_receivers_gen\" + suffix_file + \".csv\", **params)\n",
    "dict_vals['rr_some'] = val\n",
    "dict_vals_new['rr_some'] = val_new"
   ]
  },
  {
   "cell_type": "code",
   "execution_count": null,
   "metadata": {
    "scrolled": false
   },
   "outputs": [],
   "source": [
    "rp = RP()\n",
    "params['regr_params'] = rp\n",
    "val, val_new = v.main(\"generated/aggregated/double_rr_20_nodes_4_depth_some_receivers_gen\" + suffix_file + \".csv\", **params)\n",
    "dict_vals['double_rr_some'] = val\n",
    "dict_vals_new['double_rr_some'] = val_new"
   ]
  },
  {
   "cell_type": "code",
   "execution_count": null,
   "metadata": {
    "scrolled": false
   },
   "outputs": [],
   "source": [
    "rp = RP()\n",
    "params['regr_params'] = rp\n",
    "val, val_new = v.main(\"generated/aggregated/overhead_10-20_nodes_4_depth_some_receivers_gen\" + suffix_file + \".csv\", **params)\n",
    "dict_vals['overhead_some'] = val\n",
    "dict_vals_new['overhead_some'] = val_new"
   ]
  },
  {
   "cell_type": "code",
   "execution_count": null,
   "metadata": {
    "scrolled": false
   },
   "outputs": [],
   "source": [
    "def plot(dict_vals):\n",
    "    keys = sorted([k for k in dict_vals.keys() if k != 'rnd'])\n",
    "    r = np.arange(len(keys))\n",
    "    offset = 0.2\n",
    "    l = [dict_vals[k] for k in keys]\n",
    "    x, y, z = zip(*l)\n",
    "    import seaborn as sns\n",
    "    fig = plt.figure()\n",
    "    ax = fig.add_subplot(111)\n",
    "    ax.bar(r-offset, x,width=offset,color='b',align='center')\n",
    "    ax.bar(r,        y,width=offset,color='g',align='center')\n",
    "    ax.bar(r+offset, z,width=offset,color='r',align='center')\n",
    "    ax.set_xlabel(\"Strategy\")\n",
    "    ax.set_ylabel(\"Score\")\n",
    "    ax.set_title(\"Strategies scores\")\n",
    "    ax.set_xticks(r)\n",
    "    plt.xticks(rotation=45)\n",
    "    ax.set_xticklabels(keys)\n",
    "    ax.legend([\"nb_nodes\", \"latency\", \"overhead\"])\n",
    "    fig.tight_layout()\n",
    "    plt.show()"
   ]
  },
  {
   "cell_type": "code",
   "execution_count": null,
   "metadata": {},
   "outputs": [],
   "source": [
    "dict_vals = {k:v for (k, v) in dict_vals.items() if \"some\" not in k}\n",
    "dict_vals_new = {k:v for (k, v) in dict_vals_new.items() if \"some\" not in k}"
   ]
  },
  {
   "cell_type": "code",
   "execution_count": null,
   "metadata": {
    "scrolled": false
   },
   "outputs": [],
   "source": [
    "for k, (a, b, c) in dict_vals.items():\n",
    "    print(k, a, b, c)\n",
    "    #print(k, c)\n",
    "\n",
    "plot(dict_vals)"
   ]
  },
  {
   "cell_type": "code",
   "execution_count": null,
   "metadata": {},
   "outputs": [],
   "source": [
    "for k, (a, b, c) in dict_vals_new.items():\n",
    "    print(k, a, b, c)\n",
    "    #print(k, c)\n",
    "plot(dict_vals_new)\n"
   ]
  },
  {
   "cell_type": "code",
   "execution_count": null,
   "metadata": {},
   "outputs": [],
   "source": [
    "def norm(t, max_t):\n",
    "    new_t = ()\n",
    "    return tuple(item/m for item, m in zip(t, max_t))\n",
    "\n",
    "l = [v for v in dict_vals.values()]\n",
    "x, y, z = zip(*l)\n",
    "x = max(x)\n",
    "y = max(y)\n",
    "z = max(z)\n",
    "t = (x,y,z)\n",
    "dict_vals_norm = {k: norm(v, t) for k, v in dict_vals.items()}\n",
    "plot(dict_vals_norm)"
   ]
  },
  {
   "cell_type": "code",
   "execution_count": null,
   "metadata": {},
   "outputs": [],
   "source": []
  }
 ],
 "metadata": {
  "kernelspec": {
   "display_name": "Python 3",
   "language": "python",
   "name": "python3"
  },
  "language_info": {
   "codemirror_mode": {
    "name": "ipython",
    "version": 3
   },
   "file_extension": ".py",
   "mimetype": "text/x-python",
   "name": "python",
   "nbconvert_exporter": "python",
   "pygments_lexer": "ipython3",
   "version": "3.7.2"
  }
 },
 "nbformat": 4,
 "nbformat_minor": 2
}
