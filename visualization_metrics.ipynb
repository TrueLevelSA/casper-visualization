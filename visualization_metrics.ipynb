{
 "cells": [
  {
   "cell_type": "code",
   "execution_count": null,
   "metadata": {},
   "outputs": [],
   "source": [
    "%matplotlib notebook \n",
    "import numpy as np\n",
    "import matplotlib.pyplot as plt\n",
    "from pandas.plotting import scatter_matrix\n",
    "import pandas as pd\n",
    "import visualization_metrics as v\n",
    "\n",
    "\n",
    "plot = True\n",
    "dict_vals = {}"
   ]
  },
  {
   "cell_type": "code",
   "execution_count": null,
   "metadata": {
    "scrolled": false
   },
   "outputs": [],
   "source": [
    "\n",
    "val = v.main(\"gen_averages.csv\", plot=plot)\n",
    "dict_vals['rnd'] = val"
   ]
  },
  {
   "cell_type": "code",
   "execution_count": null,
   "metadata": {
    "scrolled": false
   },
   "outputs": [],
   "source": [
    "val = v.main(\"generated/aggregated/arbitrary_20_nodes_4_depth_all_receivers_gen_averages.csv\", plot=plot)\n",
    "dict_vals['arbitrary'] = val"
   ]
  },
  {
   "cell_type": "code",
   "execution_count": null,
   "metadata": {
    "scrolled": false
   },
   "outputs": [],
   "source": [
    "val = v.main(\"generated/aggregated/rr_20_nodes_4_depth_all_receivers_gen_averages.csv\", plot=plot)\n",
    "dict_vals['rr'] = val"
   ]
  },
  {
   "cell_type": "code",
   "execution_count": null,
   "metadata": {
    "scrolled": false
   },
   "outputs": [],
   "source": [
    "val = v.main(\"generated/aggregated/rr_20_nodes_4_depth_some_receivers_gen_averages.csv\", plot=plot)\n",
    "dict_vals['rr_some'] = val"
   ]
  },
  {
   "cell_type": "code",
   "execution_count": null,
   "metadata": {
    "scrolled": false
   },
   "outputs": [],
   "source": [
    "val = v.main(\"generated/aggregated/double_rr_20_nodes_4_depth_all_receivers_gen_averages.csv\", plot=plot)\n",
    "dict_vals['double_rr'] = val"
   ]
  },
  {
   "cell_type": "code",
   "execution_count": null,
   "metadata": {
    "scrolled": false
   },
   "outputs": [],
   "source": [
    "val = v.main(\"generated/aggregated/double_rr_20_nodes_4_depth_some_receivers_gen_averages.csv\", plot=plot)\n",
    "dict_vals['double_rr_some'] = val"
   ]
  },
  {
   "cell_type": "code",
   "execution_count": null,
   "metadata": {
    "scrolled": false
   },
   "outputs": [],
   "source": [
    "val = v.main(\"generated/aggregated/overhead_10-20_nodes_4_depth_all_receivers_gen_averages.csv\", plot=plot)\n",
    "dict_vals['overhead'] = val"
   ]
  },
  {
   "cell_type": "code",
   "execution_count": null,
   "metadata": {},
   "outputs": [],
   "source": [
    "dict_vals"
   ]
  },
  {
   "cell_type": "code",
   "execution_count": null,
   "metadata": {
    "scrolled": false
   },
   "outputs": [],
   "source": [
    "def plot(dict_vals):\n",
    "    keys = sorted([k for k in dict_vals.keys() if k != 'rnd'])\n",
    "    r = np.arange(len(keys))\n",
    "    offset = 0.1\n",
    "    l = [dict_vals[k] for k in keys]\n",
    "    x, y, z = zip(*l)\n",
    "    print(keys)\n",
    "    print(x)\n",
    "    print(y)\n",
    "    print(z)\n",
    "    fig = plt.figure()\n",
    "    ax = fig.add_subplot(111)\n",
    "    ax.bar(r-offset, x,width=offset,color='b',align='center')\n",
    "    ax.bar(r,        y,width=offset,color='g',align='center')\n",
    "    ax.bar(r+offset, z,width=offset,color='r',align='center')\n",
    "    print(keys)\n",
    "    ax.set_xlabel(\"Strategy\")\n",
    "    ax.set_ylabel(\"Score\")\n",
    "    ax.set_title(\"Strategies scores\")\n",
    "    ax.set_xticks(r)\n",
    "    plt.xticks(rotation=45)\n",
    "    ax.set_xticklabels(keys)\n",
    "    ax.legend([\"nb_nodes\", \"latency\", \"overhead\"])\n",
    "    fig.tight_layout()\n",
    "    plt.show()"
   ]
  },
  {
   "cell_type": "code",
   "execution_count": null,
   "metadata": {},
   "outputs": [],
   "source": [
    "plot(dict_vals)"
   ]
  },
  {
   "cell_type": "code",
   "execution_count": null,
   "metadata": {},
   "outputs": [],
   "source": [
    "def norm(t):\n",
    "    m = max(t)\n",
    "    new_t = ()\n",
    "    for item in t:\n",
    "        new_t += (item/m, )\n",
    "    return new_t\n",
    "\n",
    "dict_vals_norm = {k: norm(v) for k, v in dict_vals.items()}\n",
    "plot(dict_vals_norm)"
   ]
  },
  {
   "cell_type": "code",
   "execution_count": null,
   "metadata": {},
   "outputs": [],
   "source": []
  }
 ],
 "metadata": {
  "kernelspec": {
   "display_name": "Python 3",
   "language": "python",
   "name": "python3"
  },
  "language_info": {
   "codemirror_mode": {
    "name": "ipython",
    "version": 3
   },
   "file_extension": ".py",
   "mimetype": "text/x-python",
   "name": "python",
   "nbconvert_exporter": "python",
   "pygments_lexer": "ipython3",
   "version": "3.7.2"
  }
 },
 "nbformat": 4,
 "nbformat_minor": 2
}
